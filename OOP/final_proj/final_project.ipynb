{
 "cells": [
  {
   "cell_type": "code",
   "execution_count": 12,
   "metadata": {},
   "outputs": [],
   "source": [
    "class Organism:\n",
    "    def __init__(self):\n",
    "        self.hp = 35\n",
    "        self.dmg = 10\n",
    "    \n",
    "    def take_damage(self, damage):\n",
    "        self.hp-=damage\n",
    "    "
   ]
  },
  {
   "cell_type": "code",
   "execution_count": 21,
   "metadata": {},
   "outputs": [
    {
     "ename": "IndentationError",
     "evalue": "expected an indented block (<ipython-input-21-6f0eb6c5f443>, line 10)",
     "output_type": "error",
     "traceback": [
      "\u001b[0;36m  File \u001b[0;32m\"<ipython-input-21-6f0eb6c5f443>\"\u001b[0;36m, line \u001b[0;32m10\u001b[0m\n\u001b[0;31m    def apply_powerup(self, card):\u001b[0m\n\u001b[0m      ^\u001b[0m\n\u001b[0;31mIndentationError\u001b[0m\u001b[0;31m:\u001b[0m expected an indented block\n"
     ]
    }
   ],
   "source": [
    "class Plant(Organism):\n",
    "    def __init__(self):\n",
    "#         super().__init__()\n",
    "        cost = 35\n",
    "        self.powerup = 0\n",
    "    \n",
    "    def attack(self, nonplant):\n",
    "        \n",
    "    \n",
    "    def apply_powerup(self, card):\n",
    "        \n",
    "        \n",
    "    def weaken_powerup(self):\n",
    "        self.powerup/=2"
   ]
  },
  {
   "cell_type": "code",
   "execution_count": 26,
   "metadata": {},
   "outputs": [
    {
     "ename": "SyntaxError",
     "evalue": "unexpected EOF while parsing (<ipython-input-26-ce77496cf2bb>, line 9)",
     "output_type": "error",
     "traceback": [
      "\u001b[0;36m  File \u001b[0;32m\"<ipython-input-26-ce77496cf2bb>\"\u001b[0;36m, line \u001b[0;32m9\u001b[0m\n\u001b[0;31m    \u001b[0m\n\u001b[0m    ^\u001b[0m\n\u001b[0;31mSyntaxError\u001b[0m\u001b[0;31m:\u001b[0m unexpected EOF while parsing\n"
     ]
    }
   ],
   "source": [
    "class Non_Plant(Organism):\n",
    "    def __init__(self):\n",
    "        worth = 20\n",
    "#         super().__init__()\n",
    "        self.hp = 80\n",
    "        self.dmg = 5\n",
    "        \n",
    "    def attack(self, plant):\n",
    "        "
   ]
  },
  {
   "cell_type": "code",
   "execution_count": 27,
   "metadata": {},
   "outputs": [],
   "source": [
    "class Card:\n",
    "    def __init__(self, power):\n",
    "        cost = 5\n",
    "        self.power = power"
   ]
  },
  {
   "cell_type": "code",
   "execution_count": 28,
   "metadata": {},
   "outputs": [
    {
     "ename": "SyntaxError",
     "evalue": "unexpected EOF while parsing (<ipython-input-28-b29d25e8d346>, line 3)",
     "output_type": "error",
     "traceback": [
      "\u001b[0;36m  File \u001b[0;32m\"<ipython-input-28-b29d25e8d346>\"\u001b[0;36m, line \u001b[0;32m3\u001b[0m\n\u001b[0;31m    \u001b[0m\n\u001b[0m    ^\u001b[0m\n\u001b[0;31mSyntaxError\u001b[0m\u001b[0;31m:\u001b[0m unexpected EOF while parsing\n"
     ]
    }
   ],
   "source": [
    "class Wave:\n",
    "    def __init__(self, wave_num, row, num):\n",
    "        "
   ]
  },
  {
   "cell_type": "code",
   "execution_count": 30,
   "metadata": {},
   "outputs": [],
   "source": [
    "class Game:\n",
    "    def __init__(self, file):\n",
    "        with open(file, 'r') as f:\n",
    "            self.cash, self.height, self.width = [int(x) for x in f.readline().split(' ')]\n",
    "            self.waves = LinkedList()\n",
    "            self.waves_num = 0\n",
    "            for line in iter(f.readline, ''):\n",
    "                self.waves.add(Wave(*[int(x) for x in line.split(' ')]))\n",
    "                self.waves_num += 1\n",
    "        # WRITE YOUR ADDITIONAL INIT CODE HERE\n",
    "        \n",
    "        "
   ]
  },
  {
   "cell_type": "code",
   "execution_count": null,
   "metadata": {},
   "outputs": [],
   "source": []
  }
 ],
 "metadata": {
  "kernelspec": {
   "display_name": "Python 3",
   "language": "python",
   "name": "python3"
  },
  "language_info": {
   "codemirror_mode": {
    "name": "ipython",
    "version": 3
   },
   "file_extension": ".py",
   "mimetype": "text/x-python",
   "name": "python",
   "nbconvert_exporter": "python",
   "pygments_lexer": "ipython3",
   "version": "3.7.1"
  }
 },
 "nbformat": 4,
 "nbformat_minor": 2
}
