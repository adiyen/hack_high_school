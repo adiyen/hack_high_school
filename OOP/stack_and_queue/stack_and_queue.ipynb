{
 "cells": [
  {
   "cell_type": "markdown",
   "metadata": {},
   "source": [
    "**Exercise** #00"
   ]
  },
  {
   "cell_type": "code",
   "execution_count": 1,
   "metadata": {},
   "outputs": [],
   "source": [
    "class stack:\n",
    "    def __init__(self, value, next = None):\n",
    "        self.data = value\n",
    "        self.next = next\n",
    "        self.numbs = []\n",
    "    \n",
    "    def isEmpty(self):\n",
    "        if self.numbs == []:\n",
    "            return None\n",
    "        \n",
    "    def push(self, data):\n",
    "        self.numbs.append(data)\n",
    "    \n",
    "    def pop(self):\n",
    "        self.numbs.pop()\n",
    "\n",
    "    def peek(self):\n",
    "        return self.numbs[-1]\n",
    "    \n",
    "    def size(self):\n",
    "        return len(self.numbs)\n",
    "    \n",
    "    def __str__(self):\n",
    "        print(self.numbs)"
   ]
  },
  {
   "cell_type": "code",
   "execution_count": 2,
   "metadata": {},
   "outputs": [
    {
     "name": "stdout",
     "output_type": "stream",
     "text": [
      "None\n",
      "20\n",
      "2\n",
      "[10, 20]\n"
     ]
    }
   ],
   "source": [
    "stack = stack(0)\n",
    "print(stack.isEmpty())\n",
    "stack.push(10)\n",
    "stack.push(20)\n",
    "stack.push(30)\n",
    "stack.pop()\n",
    "print(stack.peek())\n",
    "print(stack.size())\n",
    "stack.__str__()"
   ]
  },
  {
   "cell_type": "markdown",
   "metadata": {},
   "source": [
    "**Exercise** #01"
   ]
  },
  {
   "cell_type": "code",
   "execution_count": 123,
   "metadata": {},
   "outputs": [],
   "source": [
    "class numbers:\n",
    "    def __init__(self):\n",
    "        self.numbs = []\n",
    "\n",
    "    def push(self, val):\n",
    "        self.numbs.append(val)\n",
    "    \n",
    "    def total_count(self):\n",
    "        return f\"Total count = {len(self.numbs)}\"\n",
    "\n",
    "    def sum(self):\n",
    "        storage = self.numbs.copy()\n",
    "        self.sum = 0\n",
    "        while storage:\n",
    "            self.sum+=storage[-1]\n",
    "            storage.pop()\n",
    "        return f\"Sum = {self.sum}\"\n",
    "\n",
    "        \n",
    "    def multiply(self):\n",
    "        storage = self.numbs.copy()\n",
    "        product = 1\n",
    "        while storage:\n",
    "            product*=storage[-1]\n",
    "            storage.pop()\n",
    "        return f\"Product = {product}\"\n",
    "    \n",
    "    def mean(self):\n",
    "        total = self.sum\n",
    "        avg = total/len(self.numbs)\n",
    "        return f\"Mean = {int(avg)}\"\n",
    "    \n",
    "    def min(self):\n",
    "        storage = self.numbs.copy()\n",
    "        min = storage[-1]\n",
    "        for i in range(len(storage)-1):\n",
    "            storage.pop()\n",
    "            if storage[-1] < min:\n",
    "                min = storage[-1]\n",
    "        return f\"Min = {min}\"\n",
    "        \n",
    "    def max(self):\n",
    "        storage = self.numbs.copy()\n",
    "        max = storage[-1]\n",
    "        for i in range(len(storage)-1):\n",
    "            storage.pop()\n",
    "            if storage[-1] > max:\n",
    "                max = storage[-1]\n",
    "        return f\"Max = {max}\""
   ]
  },
  {
   "cell_type": "code",
   "execution_count": 124,
   "metadata": {},
   "outputs": [],
   "source": [
    "numbers = numbers()"
   ]
  },
  {
   "cell_type": "code",
   "execution_count": 125,
   "metadata": {},
   "outputs": [
    {
     "name": "stdout",
     "output_type": "stream",
     "text": [
      "[1, 2, 3, 4, 5, 6, 7, 8, 9, 10]\n"
     ]
    }
   ],
   "source": [
    "numb = [1, 2, 3, 4, 5, 6, 7, 8, 9, 10]\n",
    "for i in range(10):\n",
    "    numbers.push(numb[i])\n",
    "\n",
    "# numb = []\n",
    "# number = input(\"Enter the numbers: \")\n",
    "\n",
    "# numb = number.split(',')\n",
    "# numbers.push(numb)\n",
    "\n",
    "# print(\"Enter the numbers: \")\n",
    "# for i in range(10):\n",
    "#     numb = int(input(\"\"))\n",
    "#     numbers.push(numb)\n",
    "print(numb)"
   ]
  },
  {
   "cell_type": "code",
   "execution_count": 126,
   "metadata": {},
   "outputs": [
    {
     "name": "stdout",
     "output_type": "stream",
     "text": [
      "Total count = 10\n"
     ]
    }
   ],
   "source": [
    "print(numbers.total_count())"
   ]
  },
  {
   "cell_type": "code",
   "execution_count": 127,
   "metadata": {},
   "outputs": [
    {
     "name": "stdout",
     "output_type": "stream",
     "text": [
      "Sum = 55\n"
     ]
    }
   ],
   "source": [
    "print(numbers.sum())"
   ]
  },
  {
   "cell_type": "code",
   "execution_count": 91,
   "metadata": {},
   "outputs": [
    {
     "name": "stdout",
     "output_type": "stream",
     "text": [
      "Product = 3628800\n"
     ]
    }
   ],
   "source": [
    "print(numbers.multiply())"
   ]
  },
  {
   "cell_type": "code",
   "execution_count": 92,
   "metadata": {},
   "outputs": [
    {
     "name": "stdout",
     "output_type": "stream",
     "text": [
      "Mean = 5\n"
     ]
    }
   ],
   "source": [
    "print(numbers.mean())"
   ]
  },
  {
   "cell_type": "code",
   "execution_count": 93,
   "metadata": {},
   "outputs": [
    {
     "name": "stdout",
     "output_type": "stream",
     "text": [
      "Min = 1\n"
     ]
    }
   ],
   "source": [
    "print(numbers.min())"
   ]
  },
  {
   "cell_type": "code",
   "execution_count": 94,
   "metadata": {},
   "outputs": [
    {
     "name": "stdout",
     "output_type": "stream",
     "text": [
      "Max = 10\n"
     ]
    }
   ],
   "source": [
    "print(numbers.max())"
   ]
  },
  {
   "cell_type": "markdown",
   "metadata": {},
   "source": [
    "**Exercise** #02"
   ]
  },
  {
   "cell_type": "code",
   "execution_count": 108,
   "metadata": {},
   "outputs": [],
   "source": [
    "class Queue:\n",
    "    def __init__(self, value, next = None):\n",
    "        self.data = value\n",
    "        self.next = next\n",
    "        self.numbs = []\n",
    "        \n",
    "    def isEmpty(self):\n",
    "        if self.numbs == []:\n",
    "            return None\n",
    "        return \"\"\n",
    "        \n",
    "    def enqueue(self, data):\n",
    "        self.numbs.insert(0, data)\n",
    "        \n",
    "    def dequeue(self):\n",
    "        self.numbs.pop()    \n",
    "        \n",
    "    def frontqueue(self):\n",
    "        return self.numbs[-1]\n",
    "    \n",
    "    def size(self):\n",
    "        return len(self.numbs)\n",
    "    \n",
    "    def __str__(self):\n",
    "        return self.numbs"
   ]
  },
  {
   "cell_type": "code",
   "execution_count": 109,
   "metadata": {},
   "outputs": [],
   "source": [
    "queue = Queue(0)"
   ]
  },
  {
   "cell_type": "code",
   "execution_count": 110,
   "metadata": {},
   "outputs": [
    {
     "name": "stdout",
     "output_type": "stream",
     "text": [
      "None\n"
     ]
    }
   ],
   "source": [
    "print(queue.isEmpty())"
   ]
  },
  {
   "cell_type": "code",
   "execution_count": 111,
   "metadata": {},
   "outputs": [],
   "source": [
    "queue.enqueue(1)\n",
    "queue.enqueue(2)\n",
    "queue.enqueue(3)"
   ]
  },
  {
   "cell_type": "code",
   "execution_count": 112,
   "metadata": {},
   "outputs": [
    {
     "name": "stdout",
     "output_type": "stream",
     "text": [
      "1\n"
     ]
    }
   ],
   "source": [
    "print(queue.frontqueue())"
   ]
  },
  {
   "cell_type": "code",
   "execution_count": 113,
   "metadata": {},
   "outputs": [],
   "source": [
    "queue.dequeue()"
   ]
  },
  {
   "cell_type": "code",
   "execution_count": 114,
   "metadata": {},
   "outputs": [
    {
     "name": "stdout",
     "output_type": "stream",
     "text": [
      "2\n"
     ]
    }
   ],
   "source": [
    "print(queue.size())"
   ]
  },
  {
   "cell_type": "code",
   "execution_count": 115,
   "metadata": {},
   "outputs": [
    {
     "name": "stdout",
     "output_type": "stream",
     "text": [
      "[3, 2]\n"
     ]
    }
   ],
   "source": [
    "print(queue.__str__())"
   ]
  },
  {
   "cell_type": "markdown",
   "metadata": {},
   "source": [
    "**Exercise** #03"
   ]
  },
  {
   "cell_type": "code",
   "execution_count": 277,
   "metadata": {},
   "outputs": [],
   "source": [
    "def strrev(input_string):\n",
    "    letters = []\n",
    "    reversed_letters = []\n",
    "    for i in input_string:\n",
    "        letters.append(i)\n",
    "        \n",
    "    for j in range(len(letters)):\n",
    "        reversed_letters.append(letters[-1])\n",
    "        letters.pop()\n",
    "\n",
    "    result = \"\"\n",
    "    for ch in reversed_letters:\n",
    "        result = result + ch\n",
    "    \n",
    "    return result"
   ]
  },
  {
   "cell_type": "code",
   "execution_count": 280,
   "metadata": {},
   "outputs": [
    {
     "name": "stdout",
     "output_type": "stream",
     "text": [
      "Enter the string to be reversed: hi\n",
      "Reversed String: ih\n"
     ]
    }
   ],
   "source": [
    "# my_string = input(\"Enter the string to be reversed: \")\n",
    "my_string = input(\"Enter the string to be reversed: \")\n",
    "result = strrev(my_string)\n",
    "print(\"Reversed String:\", result)"
   ]
  },
  {
   "cell_type": "markdown",
   "metadata": {},
   "source": [
    "**Exercise** #04"
   ]
  },
  {
   "cell_type": "code",
   "execution_count": null,
   "metadata": {},
   "outputs": [],
   "source": [
    "def revKElements(input_numbs, k):\n",
    "    numbs = []\n",
    "    final_numbs = []\n",
    "    for i in range(k):\n",
    "        numbs.append(input_numbs[0])\n",
    "        input_numbs.pop(0)\n",
    "        \n",
    "    for i in range(k):\n",
    "        input_numbs.insert(0, numbs[0])\n",
    "        numbs.pop(0)\n",
    "    return input_numbs"
   ]
  },
  {
   "cell_type": "code",
   "execution_count": null,
   "metadata": {},
   "outputs": [],
   "source": [
    "input_values = input(\"Enter the numbers: \")\n",
    "input_values = input_values.split(',')\n",
    "\n",
    "numbers = []\n",
    "for numb in input_values:\n",
    "    numbers.append(int(numb))\n",
    "\n",
    "k = int(input(\"Enter the k: \"))\n",
    "\n",
    "print(revKElements(numbers, k))"
   ]
  },
  {
   "cell_type": "markdown",
   "metadata": {},
   "source": [
    "**Exercise** #05"
   ]
  },
  {
   "cell_type": "code",
   "execution_count": 128,
   "metadata": {},
   "outputs": [],
   "source": [
    "def isBalanced(input_string):\n",
    "    signs = {\n",
    "        \"{\":\"}\",\n",
    "        \"}\":\"{\",\n",
    "        \"[\":\"]\",\n",
    "        \"]\":\"[\",\n",
    "        \"(\":\")\",\n",
    "        \")\":\"(\"\n",
    "    }\n",
    "    \n",
    "    stack = []\n",
    "    \n",
    "    for i in range(len(input_string)):\n",
    "        if stack and input_string[i] == signs[stack[-1]]:\n",
    "            stack.pop()\n",
    "        else:\n",
    "            stack.append(input_string[i])\n",
    "\n",
    "    if not stack:\n",
    "        return True\n",
    "    return False"
   ]
  },
  {
   "cell_type": "code",
   "execution_count": 267,
   "metadata": {},
   "outputs": [
    {
     "name": "stdout",
     "output_type": "stream",
     "text": [
      "Enter the sequence: \n",
      "True\n"
     ]
    }
   ],
   "source": [
    "sequence = input(\"Enter the sequence: \")\n",
    "\n",
    "print(isBalanced(sequence))"
   ]
  },
  {
   "cell_type": "markdown",
   "metadata": {},
   "source": [
    "**Exercise** #06"
   ]
  },
  {
   "cell_type": "code",
   "execution_count": 263,
   "metadata": {},
   "outputs": [],
   "source": [
    "def baseConverter(decNum, base):\n",
    "    numb = 1\n",
    "    power = 0\n",
    "    stack = []\n",
    "    vals = []\n",
    "    multiplier = 1\n",
    "    final_ans = 0\n",
    "\n",
    "    while(numb <= decNum):\n",
    "        numb = base**power\n",
    "        stack.append(numb)\n",
    "        power+=1\n",
    "\n",
    "    numb = decNum\n",
    "    while(stack[-1] > numb):\n",
    "        stack.pop()\n",
    "\n",
    "    for i in range(len(stack)):\n",
    "        if stack[-1] <= numb:\n",
    "            takeout = int(numb/stack[-1])\n",
    "            vals.insert(0, takeout)\n",
    "            numb-=(takeout*stack[-1])\n",
    "            stack.pop()\n",
    "        else:\n",
    "            stack.pop()\n",
    "            vals.insert(0, 0)\n",
    "\n",
    "\n",
    "\n",
    "    for i in range(len(vals)):\n",
    "        final_ans+=vals[i]*multiplier\n",
    "        multiplier*=10\n",
    "\n",
    "    return final_ans"
   ]
  },
  {
   "cell_type": "code",
   "execution_count": 264,
   "metadata": {},
   "outputs": [
    {
     "name": "stdout",
     "output_type": "stream",
     "text": [
      "Enter the decimal number: 25\n",
      "Enter the base: 16\n",
      "19\n"
     ]
    }
   ],
   "source": [
    "dec_numb = int(input(\"Enter the decimal number: \"))\n",
    "base = int(input(\"Enter the base: \"))\n",
    "\n",
    "print(baseConverter(dec_numb, base))"
   ]
  },
  {
   "cell_type": "markdown",
   "metadata": {},
   "source": []
  },
  {
   "cell_type": "code",
   "execution_count": null,
   "metadata": {},
   "outputs": [],
   "source": []
  },
  {
   "cell_type": "code",
   "execution_count": null,
   "metadata": {},
   "outputs": [],
   "source": []
  },
  {
   "cell_type": "markdown",
   "metadata": {},
   "source": [
    "**Tower of Hanoi**"
   ]
  },
  {
   "cell_type": "code",
   "execution_count": 26,
   "metadata": {},
   "outputs": [],
   "source": [
    "first_stack = []\n",
    "second_stack = []\n",
    "third_stack = []\n",
    "val = 30\n",
    "for i in range(3):\n",
    "    first_stack.append(val)\n",
    "    val-=10"
   ]
  },
  {
   "cell_type": "code",
   "execution_count": 27,
   "metadata": {},
   "outputs": [
    {
     "name": "stdout",
     "output_type": "stream",
     "text": [
      "[30, 20, 10]\n"
     ]
    }
   ],
   "source": [
    "print(first_stack)"
   ]
  },
  {
   "cell_type": "code",
   "execution_count": 29,
   "metadata": {},
   "outputs": [
    {
     "name": "stdout",
     "output_type": "stream",
     "text": [
      "[30]\n",
      "[10]\n",
      "[20]\n"
     ]
    }
   ],
   "source": [
    "if second_stack == []:\n",
    "    val = first_stack.pop()\n",
    "    second_stack.append(val)\n",
    "\n",
    "elif third_stack == []:\n",
    "    val = first_stack.pop()\n",
    "    third_stack.append(val)\n",
    "\n",
    "elif second_stack != [] and third_stack != []:\n",
    "    if second_stack[-1] < third_stack[-1]:\n",
    "        val = second_stack.pop()\n",
    "        third_stack.append(val)\n",
    "\n",
    "elif first_stack != [] and third_stack != []:\n",
    "    if third_stack[-1] < first_stack[-1]:\n",
    "        val = third_stack.pop()\n",
    "        first_stack.append(val)\n",
    "        \n",
    "elif second_stack != [] and third_stack != []:\n",
    "    if third_stack[-1] < second_stack[-1]:\n",
    "        val = third_stack.pop()\n",
    "        second_stack.append(val)    \n",
    "        \n",
    "        \n",
    "print(first_stack)\n",
    "print(second_stack)\n",
    "print(third_stack)"
   ]
  },
  {
   "cell_type": "code",
   "execution_count": null,
   "metadata": {},
   "outputs": [],
   "source": []
  }
 ],
 "metadata": {
  "kernelspec": {
   "display_name": "Python 3",
   "language": "python",
   "name": "python3"
  },
  "language_info": {
   "codemirror_mode": {
    "name": "ipython",
    "version": 3
   },
   "file_extension": ".py",
   "mimetype": "text/x-python",
   "name": "python",
   "nbconvert_exporter": "python",
   "pygments_lexer": "ipython3",
   "version": "3.7.1"
  }
 },
 "nbformat": 4,
 "nbformat_minor": 2
}
