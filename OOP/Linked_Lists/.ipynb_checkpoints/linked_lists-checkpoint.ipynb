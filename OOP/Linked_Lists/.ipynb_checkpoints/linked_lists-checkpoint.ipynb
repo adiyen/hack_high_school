{
 "cells": [
  {
   "cell_type": "code",
   "execution_count": 1,
   "metadata": {
    "colab": {},
    "colab_type": "code",
    "id": "PpOiCqYWLpIy"
   },
   "outputs": [],
   "source": [
    "items = [1, 3, 4]"
   ]
  },
  {
   "cell_type": "code",
   "execution_count": 2,
   "metadata": {
    "colab": {
     "base_uri": "https://localhost:8080/",
     "height": 68
    },
    "colab_type": "code",
    "id": "4bnLrR-bLx39",
    "outputId": "886e0eba-d8c8-48b7-9783-0337b276e2b3"
   },
   "outputs": [
    {
     "name": "stdout",
     "output_type": "stream",
     "text": [
      "1\n",
      "3\n",
      "4\n"
     ]
    }
   ],
   "source": [
    "for item in items:\n",
    "  print(item)"
   ]
  },
  {
   "cell_type": "code",
   "execution_count": 3,
   "metadata": {
    "colab": {},
    "colab_type": "code",
    "id": "lj-2rRykLzr6"
   },
   "outputs": [],
   "source": [
    "class Node:\n",
    "  \n",
    "  def __init__(self, content):\n",
    "    self.c = content\n",
    "    self.n = None\n",
    "    \n",
    "  @property\n",
    "  def content(self):\n",
    "    return self.c\n",
    "  \n",
    "  @property\n",
    "  def next(self):\n",
    "    return self.n\n",
    "  \n",
    "  @next.setter\n",
    "  def next(self, node):\n",
    "    self.n = node\n",
    "    \n",
    "  @content.setter\n",
    "  def content(self, val):\n",
    "    self.c = val\n",
    "    \n",
    "  def __repr__(self):\n",
    "    return f\"Node Value: {self.c}\""
   ]
  },
  {
   "cell_type": "code",
   "execution_count": 4,
   "metadata": {
    "colab": {},
    "colab_type": "code",
    "id": "JPxQibbyL3pu"
   },
   "outputs": [],
   "source": [
    "n1 = Node(10)\n",
    "n2 = Node(5)\n",
    "n3 = Node(1)"
   ]
  },
  {
   "cell_type": "markdown",
   "metadata": {
    "colab_type": "text",
    "id": "HVtNE8NFL7im"
   },
   "source": [
    "**Exercise** #00"
   ]
  },
  {
   "cell_type": "code",
   "execution_count": 5,
   "metadata": {
    "colab": {},
    "colab_type": "code",
    "id": "pLZJeEK6L4BF"
   },
   "outputs": [],
   "source": [
    "class Node:\n",
    "  def __init__(self, content):\n",
    "    self.c = content\n",
    "    self.next = None\n",
    "    \n",
    "    \n",
    "  @property\n",
    "  def content(self):\n",
    "    return self.c\n",
    "    \n",
    "  def __repr__(self):\n",
    "    return f\"{self.content}\""
   ]
  },
  {
   "cell_type": "code",
   "execution_count": 6,
   "metadata": {
    "colab": {},
    "colab_type": "code",
    "id": "O-0VnhqTL-8g"
   },
   "outputs": [],
   "source": [
    "n1 = Node(10)\n",
    "n2 = Node(20)\n",
    "n3 = Node(30)\n",
    "\n",
    "n1.next = n2\n",
    "n2.next = n3\n"
   ]
  },
  {
   "cell_type": "code",
   "execution_count": 7,
   "metadata": {
    "colab": {},
    "colab_type": "code",
    "id": "f6Uk2K_ZMC1I"
   },
   "outputs": [],
   "source": [
    "def print_list(list_head):\n",
    "  node = list_head\n",
    "  while(node):\n",
    "    print(node.content)\n",
    "    node = node.next"
   ]
  },
  {
   "cell_type": "code",
   "execution_count": 8,
   "metadata": {
    "colab": {
     "base_uri": "https://localhost:8080/",
     "height": 68
    },
    "colab_type": "code",
    "id": "zfMda6JfMDj5",
    "outputId": "7515e3de-c843-4e9b-d4fd-254fee5e254e"
   },
   "outputs": [
    {
     "name": "stdout",
     "output_type": "stream",
     "text": [
      "10\n",
      "20\n",
      "30\n"
     ]
    }
   ],
   "source": [
    "print_list(n1)"
   ]
  },
  {
   "cell_type": "code",
   "execution_count": 9,
   "metadata": {
    "colab": {},
    "colab_type": "code",
    "id": "a-jXkALpMFVL"
   },
   "outputs": [],
   "source": [
    "def add_tail(list_head, val):\n",
    "  node = list_head\n",
    "  while(node):\n",
    "    if node.next is None:\n",
    "      new_node = Node(val)\n",
    "      node.next = new_node\n",
    "      break\n",
    "    else:\n",
    "      node = node.next"
   ]
  },
  {
   "cell_type": "code",
   "execution_count": 10,
   "metadata": {
    "colab": {
     "base_uri": "https://localhost:8080/",
     "height": 68
    },
    "colab_type": "code",
    "id": "9gt4rYAwMHew",
    "outputId": "6e233a53-d0a0-4cf2-e014-21c38d1a4cf0"
   },
   "outputs": [
    {
     "name": "stdout",
     "output_type": "stream",
     "text": [
      "10\n",
      "20\n",
      "30\n"
     ]
    }
   ],
   "source": [
    "print_list(n1)"
   ]
  },
  {
   "cell_type": "markdown",
   "metadata": {
    "colab_type": "text",
    "id": "NvmqCVIQegFY"
   },
   "source": [
    "**Exercise** #02"
   ]
  },
  {
   "cell_type": "code",
   "execution_count": 11,
   "metadata": {
    "colab": {},
    "colab_type": "code",
    "id": "0ktyaV46eji9"
   },
   "outputs": [],
   "source": [
    "def remove(list_head, val):\n",
    "  node = list_head\n",
    "  prev_node = None\n",
    "  while(node):\n",
    "    if node.content == val:\n",
    "      if node == list_head:\n",
    "        list_head = node.next\n",
    "      else:\n",
    "        prev_node.next = node.next\n",
    "      break\n",
    "    prev_node = node\n",
    "    node = node.next\n",
    "  return list_head\n",
    "  "
   ]
  },
  {
   "cell_type": "code",
   "execution_count": 12,
   "metadata": {
    "colab": {
     "base_uri": "https://localhost:8080/",
     "height": 51
    },
    "colab_type": "code",
    "id": "n5NlImnqe3l5",
    "outputId": "e7136aa5-d019-4a8e-e824-230721af6322"
   },
   "outputs": [
    {
     "name": "stdout",
     "output_type": "stream",
     "text": [
      "20\n",
      "30\n"
     ]
    }
   ],
   "source": [
    "n1 = remove(n1, 10)\n",
    "print_list(n1)"
   ]
  },
  {
   "cell_type": "markdown",
   "metadata": {
    "colab_type": "text",
    "id": "6946kYWCif3Q"
   },
   "source": [
    "**Exercise** #03"
   ]
  },
  {
   "cell_type": "code",
   "execution_count": 13,
   "metadata": {
    "colab": {},
    "colab_type": "code",
    "id": "AfNcum_yftKX"
   },
   "outputs": [],
   "source": [
    "def has_cycle(list_head):\n",
    "    node = list_head\n",
    "    node = node.next\n",
    "    while(node):\n",
    "        if node.next == None:\n",
    "            return \"False\"\n",
    "        if node == list_head:\n",
    "            return \"True\"\n",
    "            node = node.next\n",
    "        else:\n",
    "            node = node.next  "
   ]
  },
  {
   "cell_type": "code",
   "execution_count": 14,
   "metadata": {
    "colab": {
     "base_uri": "https://localhost:8080/",
     "height": 34
    },
    "colab_type": "code",
    "id": "Jy7w4E7BkikV",
    "outputId": "76bb22f8-11b8-4dfd-eaa3-af446cd931e7"
   },
   "outputs": [
    {
     "name": "stdout",
     "output_type": "stream",
     "text": [
      "False\n"
     ]
    }
   ],
   "source": [
    "print(has_cycle(n1))"
   ]
  },
  {
   "cell_type": "markdown",
   "metadata": {
    "colab_type": "text",
    "id": "nTD361XhYqhw"
   },
   "source": [
    "**Exercise** #04"
   ]
  },
  {
   "cell_type": "code",
   "execution_count": 15,
   "metadata": {
    "colab": {},
    "colab_type": "code",
    "id": "6_elPQ5nYyBN"
   },
   "outputs": [],
   "source": [
    "def merge(train1, train2):\n",
    "    node = train1\n",
    "    while(node):\n",
    "        if node.next == None:\n",
    "            node.next = train2\n",
    "            break\n",
    "\n",
    "        else:\n",
    "            node = node.next\n",
    "            \n",
    "    return train1"
   ]
  },
  {
   "cell_type": "code",
   "execution_count": 16,
   "metadata": {
    "colab": {},
    "colab_type": "code",
    "id": "iMWOCbRgZMmT"
   },
   "outputs": [
    {
     "name": "stdout",
     "output_type": "stream",
     "text": [
      "60\n"
     ]
    }
   ],
   "source": [
    "n1 = Node(60)\n",
    "n2 = Node(50)\n",
    "n3 = Node(40)\n",
    "n4 = Node(30)\n",
    "n5 = Node(20)\n",
    "n6 = Node(10)\n",
    "\n",
    "n1.next = n2\n",
    "n2.next = n3\n",
    "n4.next = n5\n",
    "\n",
    "print(merge(n1, n4))"
   ]
  },
  {
   "cell_type": "code",
   "execution_count": 17,
   "metadata": {
    "colab": {
     "base_uri": "https://localhost:8080/",
     "height": 34
    },
    "colab_type": "code",
    "id": "DcjHScIPbmSz",
    "outputId": "c27c8e19-c458-4f0a-d646-16dc06716126"
   },
   "outputs": [
    {
     "name": "stdout",
     "output_type": "stream",
     "text": [
      "30\n"
     ]
    }
   ],
   "source": [
    "print(n3.next)"
   ]
  },
  {
   "cell_type": "code",
   "execution_count": 18,
   "metadata": {
    "colab": {},
    "colab_type": "code",
    "id": "5lXxjtm6f_yg"
   },
   "outputs": [],
   "source": [
    "def sum_numbs(*numbs):\n",
    "    result = 0\n",
    "    for numb in numbs:\n",
    "        result += numb\n",
    "    return result"
   ]
  },
  {
   "cell_type": "code",
   "execution_count": 19,
   "metadata": {
    "colab": {
     "base_uri": "https://localhost:8080/",
     "height": 34
    },
    "colab_type": "code",
    "id": "QzkK-Y-tiWOG",
    "outputId": "bdae1df1-6d53-4416-ec6e-9293edd1fe91"
   },
   "outputs": [
    {
     "data": {
      "text/plain": [
       "26"
      ]
     },
     "execution_count": 19,
     "metadata": {},
     "output_type": "execute_result"
    }
   ],
   "source": [
    "sum_numbs(4, 5, 7, 10)"
   ]
  },
  {
   "cell_type": "code",
   "execution_count": 20,
   "metadata": {
    "colab": {
     "base_uri": "https://localhost:8080/",
     "height": 34
    },
    "colab_type": "code",
    "id": "lFt0nvApiYBf",
    "outputId": "cd98a587-10dd-4714-a779-19efc3c74b84"
   },
   "outputs": [
    {
     "data": {
      "text/plain": [
       "8"
      ]
     },
     "execution_count": 20,
     "metadata": {},
     "output_type": "execute_result"
    }
   ],
   "source": [
    "sum([1, 3, 4])"
   ]
  },
  {
   "cell_type": "code",
   "execution_count": 21,
   "metadata": {
    "colab": {},
    "colab_type": "code",
    "id": "vlhI1wTXis5z"
   },
   "outputs": [],
   "source": [
    "def person(name, age=10, *args, **kwargs):\n",
    "    print(name, age)\n",
    "    print(args)\n",
    "    print(kwargs)"
   ]
  },
  {
   "cell_type": "code",
   "execution_count": 22,
   "metadata": {
    "colab": {
     "base_uri": "https://localhost:8080/",
     "height": 68
    },
    "colab_type": "code",
    "id": "Lby5Ix4XjUiY",
    "outputId": "5ac47621-26ab-49f5-a60b-b733afd84a4e"
   },
   "outputs": [
    {
     "name": "stdout",
     "output_type": "stream",
     "text": [
      "Krishna 14\n",
      "('M',)\n",
      "{'school': 'AHS', 'hobby': 'coding'}\n"
     ]
    }
   ],
   "source": [
    "person(\"Krishna\", 14, \"M\", school=\"AHS\", hobby=\"coding\")"
   ]
  },
  {
   "cell_type": "markdown",
   "metadata": {
    "colab_type": "text",
    "id": "oJ_ma6Ugl0Pc"
   },
   "source": [
    "**Exercise** #05"
   ]
  },
  {
   "cell_type": "code",
   "execution_count": 23,
   "metadata": {
    "colab": {},
    "colab_type": "code",
    "id": "-G0MyguqXZD1"
   },
   "outputs": [],
   "source": [
    "def print_list(head):\n",
    "    node = head\n",
    "    while(node):\n",
    "        print(node.content, end=\", \")\n",
    "        node = node.next\n",
    "    print()"
   ]
  },
  {
   "cell_type": "code",
   "execution_count": 24,
   "metadata": {
    "colab": {},
    "colab_type": "code",
    "id": "PEUJKdXPjWnU"
   },
   "outputs": [],
   "source": [
    "def length(list):\n",
    "    node = list\n",
    "    list_length = 0\n",
    "    while(node):\n",
    "        node = node.next\n",
    "        list_length+=1\n",
    "    return list_length\n",
    "\n",
    "def sort_asc(unsorted_list):\n",
    "    list_length = length(unsorted_list)\n",
    "\n",
    "    min_node = unsorted_list\n",
    "    min_finder = min_node.next\n",
    "    \n",
    "    count = min_finder\n",
    "    \n",
    "    while(min_finder):\n",
    "        if min_finder.content < min_node.content:\n",
    "            prev_min_node = count\n",
    "            min_node = min_finder\n",
    "       \n",
    "        count = min_finder   \n",
    "        min_finder = min_finder.next\n",
    "    \n",
    "    if min_node.content != unsorted_list.content:\n",
    "        storage = unsorted_list.next\n",
    "        unsorted_list.next = min_node.next\n",
    "        min_node.next = storage\n",
    "        prev_min_node.next = unsorted_list\n",
    "\n",
    "    head_node = min_node\n",
    "    for i in range(list_length):\n",
    "        prev_prev_node = head_node\n",
    "        prev_node = prev_prev_node.next\n",
    "        node = prev_node.next\n",
    "        while node:\n",
    "            if prev_node.content > node.content:\n",
    "                prev_node.next, node.next, prev_prev_node.next = node.next, prev_node, node\n",
    "                prev_node, node = node, prev_node       \n",
    "            else:\n",
    "                prev_prev_node, prev_node, node = prev_node, node, node.next\n",
    "               \n",
    "                \n",
    "    print_node = head_node\n",
    "    while print_node:\n",
    "        print(print_node)\n",
    "        print_node = print_node.next\n",
    "                "
   ]
  },
  {
   "cell_type": "code",
   "execution_count": 25,
   "metadata": {
    "colab": {
     "base_uri": "https://localhost:8080/",
     "height": 51
    },
    "colab_type": "code",
    "id": "eF_ZsbvpI_a_",
    "outputId": "e9bec8a0-9304-45fe-a862-d86ca018fffb"
   },
   "outputs": [
    {
     "name": "stdout",
     "output_type": "stream",
     "text": [
      "-3\n",
      "-2\n",
      "12\n",
      "20\n",
      "25\n",
      "80\n"
     ]
    }
   ],
   "source": [
    "n1 = Node(-2)\n",
    "n2 = Node(-3)\n",
    "n3 = Node(25)\n",
    "n4 = Node(20)\n",
    "n5 = Node(80)\n",
    "n6 = Node(12)\n",
    "\n",
    "n1.next = n2\n",
    "n2.next = n3\n",
    "n3.next = n4\n",
    "n4.next = n5\n",
    "n5.next = n6\n",
    "sort_asc(n1)"
   ]
  },
  {
   "cell_type": "code",
   "execution_count": 26,
   "metadata": {
    "colab": {
     "base_uri": "https://localhost:8080/",
     "height": 34
    },
    "colab_type": "code",
    "id": "KC9bcP1eF-vT",
    "outputId": "f5b14ae3-5db4-4afa-bcc3-e10afd15278a"
   },
   "outputs": [
    {
     "data": {
      "text/plain": [
       "5"
      ]
     },
     "execution_count": 26,
     "metadata": {},
     "output_type": "execute_result"
    }
   ],
   "source": [
    "length(n1)"
   ]
  },
  {
   "cell_type": "code",
   "execution_count": 27,
   "metadata": {
    "colab": {},
    "colab_type": "code",
    "id": "mD5eQkoLW8NC"
   },
   "outputs": [],
   "source": [
    "def create_from_list(items):\n",
    "    pn = None\n",
    "    for val in items:\n",
    "        n = Node(val)\n",
    "        if pn is None:\n",
    "            head = n\n",
    "        else:\n",
    "            pn.next = n\n",
    "        pn = n\n",
    "    return head"
   ]
  },
  {
   "cell_type": "code",
   "execution_count": 28,
   "metadata": {
    "colab": {
     "base_uri": "https://localhost:8080/",
     "height": 187
    },
    "colab_type": "code",
    "id": "dRXRoDjlKXJg",
    "outputId": "e46e88e6-c5b8-42f8-99da-198d9695efe1"
   },
   "outputs": [
    {
     "name": "stdout",
     "output_type": "stream",
     "text": [
      "Before (Unsorted):\n",
      "5, -2, 10, 100, -20, 0, 0, \n",
      "Sorted List:\n",
      "-20\n",
      "-2\n",
      "0\n",
      "0\n",
      "5\n",
      "10\n",
      "100\n"
     ]
    }
   ],
   "source": [
    "# Test Case 1\n",
    "head = create_from_list([5, -2, 10, 100, -20, 0, 0])\n",
    "print(\"Before (Unsorted):\")\n",
    "print_list(head)\n",
    "print(\"Sorted List:\")\n",
    "sort_asc(head)"
   ]
  },
  {
   "cell_type": "code",
   "execution_count": 29,
   "metadata": {
    "colab": {
     "base_uri": "https://localhost:8080/",
     "height": 102
    },
    "colab_type": "code",
    "id": "4ZkVDAzbJC4Q",
    "outputId": "4ca7e4ca-efa2-472e-9d92-a73b8548bc1d"
   },
   "outputs": [
    {
     "name": "stdout",
     "output_type": "stream",
     "text": [
      "Before (Unsorted):\n",
      "-2, -3, \n",
      "Sorted List:\n",
      "-3\n",
      "-2\n"
     ]
    }
   ],
   "source": [
    "# Test Case 1\n",
    "head = create_from_list([-2, -3])\n",
    "print(\"Before (Unsorted):\")\n",
    "print_list(head)\n",
    "print(\"Sorted List:\")\n",
    "sort_asc(head)"
   ]
  },
  {
   "cell_type": "code",
   "execution_count": 34,
   "metadata": {
    "colab": {
     "base_uri": "https://localhost:8080/",
     "height": 136
    },
    "colab_type": "code",
    "id": "di6XZkOHXmA0",
    "outputId": "f897bce7-d5e3-4a31-e936-95a85d6e0aa6"
   },
   "outputs": [
    {
     "name": "stdout",
     "output_type": "stream",
     "text": [
      "-20\n",
      "-2\n",
      "0\n",
      "0\n",
      "5\n",
      "10\n",
      "100\n"
     ]
    }
   ],
   "source": [
    "sort_asc(head)"
   ]
  },
  {
   "cell_type": "code",
   "execution_count": 31,
   "metadata": {
    "colab": {},
    "colab_type": "code",
    "id": "zSSfwrcJsUd-"
   },
   "outputs": [],
   "source": [
    "pn = None\n",
    "for val in [5, -2, 10, 100, -20, 0, 0]:\n",
    "    n = Node(val)\n",
    "    if pn is None:\n",
    "        head = n\n",
    "    else:\n",
    "        pn.next = n\n",
    "    pn = n"
   ]
  },
  {
   "cell_type": "markdown",
   "metadata": {},
   "source": [
    "**Exercise** #06"
   ]
  },
  {
   "cell_type": "code",
   "execution_count": 32,
   "metadata": {},
   "outputs": [],
   "source": [
    "def remove_lightest(head_node, list_length):\n",
    "    prev_node = head_node\n",
    "    node = prev_node.next\n",
    "    counter = 1\n",
    "    while(node):\n",
    "        if counter >= list_length-2:\n",
    "            prev_node.next = None\n",
    "        \n",
    "        prev_node = node\n",
    "        node = node.next\n",
    "        counter+=1\n",
    "    \n",
    "    return head_node\n",
    "\n",
    "def length(list):\n",
    "    node = list\n",
    "    list_length = 0\n",
    "    while(node):\n",
    "        node = node.next\n",
    "        list_length+=1\n",
    "    return list_length\n",
    "\n",
    "def sort_desc(unsorted_list):\n",
    "    list_length = length(unsorted_list)\n",
    "\n",
    "    min_node = unsorted_list\n",
    "    min_finder = min_node.next\n",
    "    \n",
    "    count = min_finder\n",
    "    \n",
    "    while(min_finder):\n",
    "        if min_finder.content > min_node.content:\n",
    "            prev_min_node = count\n",
    "            min_node = min_finder\n",
    "       \n",
    "        count = min_finder   \n",
    "        min_finder = min_finder.next\n",
    "    \n",
    "    if min_node.content != unsorted_list.content:\n",
    "        storage = unsorted_list.next\n",
    "        unsorted_list.next = min_node.next\n",
    "        min_node.next = storage\n",
    "        prev_min_node.next = unsorted_list\n",
    "\n",
    "    head_node = min_node\n",
    "    for i in range(list_length):\n",
    "        prev_prev_node = head_node\n",
    "        prev_node = prev_prev_node.next\n",
    "        node = prev_node.next\n",
    "        while node:\n",
    "            if prev_node.content < node.content:\n",
    "                prev_node.next, node.next, prev_prev_node.next = node.next, prev_node, node\n",
    "                prev_node, node = node, prev_node       \n",
    "            else:\n",
    "                prev_prev_node, prev_node, node = prev_node, node, node.next\n",
    "    \n",
    "    print(remove_lightest(head_node, list_length))\n",
    "\n",
    "def merge(train1, train2):\n",
    "    node = train1\n",
    "    while(node):\n",
    "        if node.next == None:\n",
    "            node.next = train2\n",
    "            break\n",
    "\n",
    "        else:\n",
    "            node = node.next\n",
    "            \n",
    "    sort_desc(train1)"
   ]
  },
  {
   "cell_type": "code",
   "execution_count": 33,
   "metadata": {},
   "outputs": [
    {
     "name": "stdout",
     "output_type": "stream",
     "text": [
      "60\n"
     ]
    }
   ],
   "source": [
    "n1 = Node(30)\n",
    "n2 = Node(20)\n",
    "n3 = Node(10)\n",
    "n4 = Node(60)\n",
    "n5 = Node(50)\n",
    "n6 = Node(40)\n",
    "\n",
    "n1.next = n2\n",
    "n2.next = n3\n",
    "n4.next = n5\n",
    "n5.next = n6\n",
    "\n",
    "merge(n1, n4)"
   ]
  }
 ],
 "metadata": {
  "colab": {
   "collapsed_sections": [],
   "name": "linked_lists.ipynb",
   "provenance": [],
   "version": "0.3.2"
  },
  "kernelspec": {
   "display_name": "Python 3",
   "language": "python",
   "name": "python3"
  },
  "language_info": {
   "codemirror_mode": {
    "name": "ipython",
    "version": 3
   },
   "file_extension": ".py",
   "mimetype": "text/x-python",
   "name": "python",
   "nbconvert_exporter": "python",
   "pygments_lexer": "ipython3",
   "version": "3.7.1"
  }
 },
 "nbformat": 4,
 "nbformat_minor": 1
}
